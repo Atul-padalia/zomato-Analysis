{
 "cells": [
  {
   "cell_type": "markdown",
   "metadata": {},
   "source": [
    "## Importing Libraries"
   ]
  },
  {
   "cell_type": "code",
   "execution_count": 106,
   "metadata": {},
   "outputs": [],
   "source": [
    "import numpy as np\n",
    "import pandas as pd\n",
    "import matplotlib.pyplot as plt\n",
    "import seaborn as sns\n",
    "pd.options.display.float_format='{:.2f}'.format"
   ]
  },
  {
   "cell_type": "markdown",
   "metadata": {},
   "source": [
    "## Loading the Dataset"
   ]
  },
  {
   "cell_type": "code",
   "execution_count": 107,
   "metadata": {},
   "outputs": [],
   "source": [
    "df=pd.read_csv('zomato.csv')"
   ]
  },
  {
   "cell_type": "markdown",
   "metadata": {},
   "source": [
    "## Removing column 1 and column 2 from DataFrame"
   ]
  },
  {
   "cell_type": "code",
   "execution_count": 108,
   "metadata": {},
   "outputs": [
    {
     "data": {
      "text/html": [
       "<div>\n",
       "<style scoped>\n",
       "    .dataframe tbody tr th:only-of-type {\n",
       "        vertical-align: middle;\n",
       "    }\n",
       "\n",
       "    .dataframe tbody tr th {\n",
       "        vertical-align: top;\n",
       "    }\n",
       "\n",
       "    .dataframe thead th {\n",
       "        text-align: right;\n",
       "    }\n",
       "</style>\n",
       "<table border=\"1\" class=\"dataframe\">\n",
       "  <thead>\n",
       "    <tr style=\"text-align: right;\">\n",
       "      <th></th>\n",
       "      <th>restaurant name</th>\n",
       "      <th>restaurant type</th>\n",
       "      <th>rate (out of 5)</th>\n",
       "      <th>num of ratings</th>\n",
       "      <th>avg cost (two people)</th>\n",
       "      <th>online_order</th>\n",
       "      <th>table booking</th>\n",
       "      <th>cuisines type</th>\n",
       "      <th>area</th>\n",
       "      <th>local address</th>\n",
       "    </tr>\n",
       "  </thead>\n",
       "  <tbody>\n",
       "    <tr>\n",
       "      <th>0</th>\n",
       "      <td>#FeelTheROLL</td>\n",
       "      <td>Quick Bites</td>\n",
       "      <td>3.40</td>\n",
       "      <td>7</td>\n",
       "      <td>200.00</td>\n",
       "      <td>No</td>\n",
       "      <td>No</td>\n",
       "      <td>Fast Food</td>\n",
       "      <td>Bellandur</td>\n",
       "      <td>Bellandur</td>\n",
       "    </tr>\n",
       "    <tr>\n",
       "      <th>1</th>\n",
       "      <td>#L-81 Cafe</td>\n",
       "      <td>Quick Bites</td>\n",
       "      <td>3.90</td>\n",
       "      <td>48</td>\n",
       "      <td>400.00</td>\n",
       "      <td>Yes</td>\n",
       "      <td>No</td>\n",
       "      <td>Fast Food, Beverages</td>\n",
       "      <td>Byresandra,Tavarekere,Madiwala</td>\n",
       "      <td>HSR</td>\n",
       "    </tr>\n",
       "    <tr>\n",
       "      <th>2</th>\n",
       "      <td>#refuel</td>\n",
       "      <td>Cafe</td>\n",
       "      <td>3.70</td>\n",
       "      <td>37</td>\n",
       "      <td>400.00</td>\n",
       "      <td>Yes</td>\n",
       "      <td>No</td>\n",
       "      <td>Cafe, Beverages</td>\n",
       "      <td>Bannerghatta Road</td>\n",
       "      <td>Bannerghatta Road</td>\n",
       "    </tr>\n",
       "    <tr>\n",
       "      <th>3</th>\n",
       "      <td>'@ Biryani Central</td>\n",
       "      <td>Casual Dining</td>\n",
       "      <td>2.70</td>\n",
       "      <td>135</td>\n",
       "      <td>550.00</td>\n",
       "      <td>Yes</td>\n",
       "      <td>No</td>\n",
       "      <td>Biryani, Mughlai, Chinese</td>\n",
       "      <td>Marathahalli</td>\n",
       "      <td>Marathahalli</td>\n",
       "    </tr>\n",
       "    <tr>\n",
       "      <th>4</th>\n",
       "      <td>'@ The Bbq</td>\n",
       "      <td>Casual Dining</td>\n",
       "      <td>2.80</td>\n",
       "      <td>40</td>\n",
       "      <td>700.00</td>\n",
       "      <td>Yes</td>\n",
       "      <td>No</td>\n",
       "      <td>BBQ, Continental, North Indian, Chinese, Bever...</td>\n",
       "      <td>Bellandur</td>\n",
       "      <td>Bellandur</td>\n",
       "    </tr>\n",
       "  </tbody>\n",
       "</table>\n",
       "</div>"
      ],
      "text/plain": [
       "      restaurant name restaurant type  rate (out of 5)  num of ratings  \\\n",
       "0        #FeelTheROLL     Quick Bites             3.40               7   \n",
       "1          #L-81 Cafe     Quick Bites             3.90              48   \n",
       "2             #refuel            Cafe             3.70              37   \n",
       "3  '@ Biryani Central   Casual Dining             2.70             135   \n",
       "4          '@ The Bbq   Casual Dining             2.80              40   \n",
       "\n",
       "   avg cost (two people) online_order table booking  \\\n",
       "0                 200.00           No            No   \n",
       "1                 400.00          Yes            No   \n",
       "2                 400.00          Yes            No   \n",
       "3                 550.00          Yes            No   \n",
       "4                 700.00          Yes            No   \n",
       "\n",
       "                                       cuisines type  \\\n",
       "0                                          Fast Food   \n",
       "1                               Fast Food, Beverages   \n",
       "2                                    Cafe, Beverages   \n",
       "3                          Biryani, Mughlai, Chinese   \n",
       "4  BBQ, Continental, North Indian, Chinese, Bever...   \n",
       "\n",
       "                             area      local address  \n",
       "0                       Bellandur          Bellandur  \n",
       "1  Byresandra,Tavarekere,Madiwala                HSR  \n",
       "2               Bannerghatta Road  Bannerghatta Road  \n",
       "3                    Marathahalli       Marathahalli  \n",
       "4                       Bellandur          Bellandur  "
      ]
     },
     "execution_count": 108,
     "metadata": {},
     "output_type": "execute_result"
    }
   ],
   "source": [
    "cols=list(df.columns)\n",
    "cols=cols[2:]\n",
    "df=df[cols]\n",
    "df.head()"
   ]
  },
  {
   "cell_type": "code",
   "execution_count": 109,
   "metadata": {},
   "outputs": [
    {
     "data": {
      "text/plain": [
       "(7105, 10)"
      ]
     },
     "execution_count": 109,
     "metadata": {},
     "output_type": "execute_result"
    }
   ],
   "source": [
    "df.shape"
   ]
  },
  {
   "cell_type": "markdown",
   "metadata": {},
   "source": [
    "There are 7105 restaurants listed in the dataset and 10 rows of data."
   ]
  },
  {
   "cell_type": "markdown",
   "metadata": {},
   "source": [
    "## Dataframe Info"
   ]
  },
  {
   "cell_type": "code",
   "execution_count": 110,
   "metadata": {},
   "outputs": [
    {
     "name": "stdout",
     "output_type": "stream",
     "text": [
      "<class 'pandas.core.frame.DataFrame'>\n",
      "RangeIndex: 7105 entries, 0 to 7104\n",
      "Data columns (total 10 columns):\n",
      " #   Column                 Non-Null Count  Dtype  \n",
      "---  ------                 --------------  -----  \n",
      " 0   restaurant name        7105 non-null   object \n",
      " 1   restaurant type        7105 non-null   object \n",
      " 2   rate (out of 5)        7037 non-null   float64\n",
      " 3   num of ratings         7105 non-null   int64  \n",
      " 4   avg cost (two people)  7048 non-null   float64\n",
      " 5   online_order           7105 non-null   object \n",
      " 6   table booking          7105 non-null   object \n",
      " 7   cuisines type          7105 non-null   object \n",
      " 8   area                   7105 non-null   object \n",
      " 9   local address          7105 non-null   object \n",
      "dtypes: float64(2), int64(1), object(7)\n",
      "memory usage: 555.2+ KB\n"
     ]
    }
   ],
   "source": [
    "df.info()"
   ]
  },
  {
   "cell_type": "markdown",
   "metadata": {},
   "source": [
    "## Check For Duplicates Data"
   ]
  },
  {
   "cell_type": "code",
   "execution_count": 111,
   "metadata": {},
   "outputs": [
    {
     "data": {
      "text/plain": [
       "False"
      ]
     },
     "execution_count": 111,
     "metadata": {},
     "output_type": "execute_result"
    }
   ],
   "source": [
    "df.duplicated().any()"
   ]
  },
  {
   "cell_type": "markdown",
   "metadata": {},
   "source": [
    "so, There are none duplicate data in the dataset."
   ]
  },
  {
   "cell_type": "markdown",
   "metadata": {},
   "source": [
    "## Checking for null values"
   ]
  },
  {
   "cell_type": "code",
   "execution_count": 112,
   "metadata": {},
   "outputs": [
    {
     "data": {
      "text/plain": [
       "restaurant name           0\n",
       "restaurant type           0\n",
       "rate (out of 5)          68\n",
       "num of ratings            0\n",
       "avg cost (two people)    57\n",
       "online_order              0\n",
       "table booking             0\n",
       "cuisines type             0\n",
       "area                      0\n",
       "local address             0\n",
       "dtype: int64"
      ]
     },
     "execution_count": 112,
     "metadata": {},
     "output_type": "execute_result"
    }
   ],
   "source": [
    "df.isnull().sum()"
   ]
  },
  {
   "cell_type": "markdown",
   "metadata": {},
   "source": [
    "So, we have null values in avg cost column and rate column, so let's deal with these null values."
   ]
  },
  {
   "cell_type": "markdown",
   "metadata": {},
   "source": [
    "## Dealing with the Null Values"
   ]
  },
  {
   "cell_type": "code",
   "execution_count": 113,
   "metadata": {},
   "outputs": [],
   "source": [
    "avg_rating=df['rate (out of 5)'].median()\n",
    "df['rate (out of 5)']=df['rate (out of 5)'].fillna(avg_rating)"
   ]
  },
  {
   "cell_type": "markdown",
   "metadata": {},
   "source": [
    "So, here we have filled the null values in rate column with the median of all ratings."
   ]
  },
  {
   "cell_type": "code",
   "execution_count": 114,
   "metadata": {},
   "outputs": [],
   "source": [
    "mid_cost=df['avg cost (two people)'].median()\n",
    "df['avg cost (two people)']=df['avg cost (two people)'].fillna(mid_cost)"
   ]
  },
  {
   "cell_type": "markdown",
   "metadata": {},
   "source": [
    "And, we have filled the null values in avg cost column with the median of avg cost of remaining restaurants."
   ]
  },
  {
   "cell_type": "code",
   "execution_count": 115,
   "metadata": {},
   "outputs": [
    {
     "data": {
      "text/html": [
       "<div>\n",
       "<style scoped>\n",
       "    .dataframe tbody tr th:only-of-type {\n",
       "        vertical-align: middle;\n",
       "    }\n",
       "\n",
       "    .dataframe tbody tr th {\n",
       "        vertical-align: top;\n",
       "    }\n",
       "\n",
       "    .dataframe thead th {\n",
       "        text-align: right;\n",
       "    }\n",
       "</style>\n",
       "<table border=\"1\" class=\"dataframe\">\n",
       "  <thead>\n",
       "    <tr style=\"text-align: right;\">\n",
       "      <th></th>\n",
       "      <th>rate (out of 5)</th>\n",
       "      <th>num of ratings</th>\n",
       "      <th>avg cost (two people)</th>\n",
       "    </tr>\n",
       "  </thead>\n",
       "  <tbody>\n",
       "    <tr>\n",
       "      <th>count</th>\n",
       "      <td>7105.00</td>\n",
       "      <td>7105.00</td>\n",
       "      <td>7105.00</td>\n",
       "    </tr>\n",
       "    <tr>\n",
       "      <th>mean</th>\n",
       "      <td>3.51</td>\n",
       "      <td>188.92</td>\n",
       "      <td>539.16</td>\n",
       "    </tr>\n",
       "    <tr>\n",
       "      <th>std</th>\n",
       "      <td>0.46</td>\n",
       "      <td>592.17</td>\n",
       "      <td>461.21</td>\n",
       "    </tr>\n",
       "    <tr>\n",
       "      <th>min</th>\n",
       "      <td>1.80</td>\n",
       "      <td>1.00</td>\n",
       "      <td>40.00</td>\n",
       "    </tr>\n",
       "    <tr>\n",
       "      <th>25%</th>\n",
       "      <td>3.20</td>\n",
       "      <td>16.00</td>\n",
       "      <td>300.00</td>\n",
       "    </tr>\n",
       "    <tr>\n",
       "      <th>50%</th>\n",
       "      <td>3.50</td>\n",
       "      <td>40.00</td>\n",
       "      <td>400.00</td>\n",
       "    </tr>\n",
       "    <tr>\n",
       "      <th>75%</th>\n",
       "      <td>3.80</td>\n",
       "      <td>128.00</td>\n",
       "      <td>600.00</td>\n",
       "    </tr>\n",
       "    <tr>\n",
       "      <th>max</th>\n",
       "      <td>4.90</td>\n",
       "      <td>16345.00</td>\n",
       "      <td>6000.00</td>\n",
       "    </tr>\n",
       "  </tbody>\n",
       "</table>\n",
       "</div>"
      ],
      "text/plain": [
       "       rate (out of 5)  num of ratings  avg cost (two people)\n",
       "count          7105.00         7105.00                7105.00\n",
       "mean              3.51          188.92                 539.16\n",
       "std               0.46          592.17                 461.21\n",
       "min               1.80            1.00                  40.00\n",
       "25%               3.20           16.00                 300.00\n",
       "50%               3.50           40.00                 400.00\n",
       "75%               3.80          128.00                 600.00\n",
       "max               4.90        16345.00                6000.00"
      ]
     },
     "execution_count": 115,
     "metadata": {},
     "output_type": "execute_result"
    }
   ],
   "source": [
    "df.describe(include=np.number)"
   ]
  },
  {
   "cell_type": "markdown",
   "metadata": {},
   "source": [
    "## Cleaning Restaurant Name column in Dataset"
   ]
  },
  {
   "cell_type": "code",
   "execution_count": 116,
   "metadata": {},
   "outputs": [],
   "source": [
    "df['restaurant name']=df['restaurant name'].str.replace('[^a-zA-Z 0-9]','',regex=True)"
   ]
  },
  {
   "cell_type": "markdown",
   "metadata": {},
   "source": [
    "so, here we are replacing all the other characters except alphabets, numeric and whitespace from our restaurant column using a regex expression."
   ]
  },
  {
   "cell_type": "code",
   "execution_count": 117,
   "metadata": {},
   "outputs": [
    {
     "data": {
      "text/html": [
       "<div>\n",
       "<style scoped>\n",
       "    .dataframe tbody tr th:only-of-type {\n",
       "        vertical-align: middle;\n",
       "    }\n",
       "\n",
       "    .dataframe tbody tr th {\n",
       "        vertical-align: top;\n",
       "    }\n",
       "\n",
       "    .dataframe thead th {\n",
       "        text-align: right;\n",
       "    }\n",
       "</style>\n",
       "<table border=\"1\" class=\"dataframe\">\n",
       "  <thead>\n",
       "    <tr style=\"text-align: right;\">\n",
       "      <th></th>\n",
       "      <th>restaurant name</th>\n",
       "      <th>restaurant type</th>\n",
       "      <th>rate (out of 5)</th>\n",
       "      <th>num of ratings</th>\n",
       "      <th>avg cost (two people)</th>\n",
       "      <th>online_order</th>\n",
       "      <th>table booking</th>\n",
       "      <th>cuisines type</th>\n",
       "      <th>area</th>\n",
       "      <th>local address</th>\n",
       "    </tr>\n",
       "  </thead>\n",
       "  <tbody>\n",
       "    <tr>\n",
       "      <th>0</th>\n",
       "      <td>FeelTheROLL</td>\n",
       "      <td>Quick Bites</td>\n",
       "      <td>3.40</td>\n",
       "      <td>7</td>\n",
       "      <td>200.00</td>\n",
       "      <td>No</td>\n",
       "      <td>No</td>\n",
       "      <td>Fast Food</td>\n",
       "      <td>Bellandur</td>\n",
       "      <td>Bellandur</td>\n",
       "    </tr>\n",
       "    <tr>\n",
       "      <th>1</th>\n",
       "      <td>L81 Cafe</td>\n",
       "      <td>Quick Bites</td>\n",
       "      <td>3.90</td>\n",
       "      <td>48</td>\n",
       "      <td>400.00</td>\n",
       "      <td>Yes</td>\n",
       "      <td>No</td>\n",
       "      <td>Fast Food, Beverages</td>\n",
       "      <td>Byresandra,Tavarekere,Madiwala</td>\n",
       "      <td>HSR</td>\n",
       "    </tr>\n",
       "    <tr>\n",
       "      <th>2</th>\n",
       "      <td>refuel</td>\n",
       "      <td>Cafe</td>\n",
       "      <td>3.70</td>\n",
       "      <td>37</td>\n",
       "      <td>400.00</td>\n",
       "      <td>Yes</td>\n",
       "      <td>No</td>\n",
       "      <td>Cafe, Beverages</td>\n",
       "      <td>Bannerghatta Road</td>\n",
       "      <td>Bannerghatta Road</td>\n",
       "    </tr>\n",
       "    <tr>\n",
       "      <th>3</th>\n",
       "      <td>Biryani Central</td>\n",
       "      <td>Casual Dining</td>\n",
       "      <td>2.70</td>\n",
       "      <td>135</td>\n",
       "      <td>550.00</td>\n",
       "      <td>Yes</td>\n",
       "      <td>No</td>\n",
       "      <td>Biryani, Mughlai, Chinese</td>\n",
       "      <td>Marathahalli</td>\n",
       "      <td>Marathahalli</td>\n",
       "    </tr>\n",
       "    <tr>\n",
       "      <th>4</th>\n",
       "      <td>The Bbq</td>\n",
       "      <td>Casual Dining</td>\n",
       "      <td>2.80</td>\n",
       "      <td>40</td>\n",
       "      <td>700.00</td>\n",
       "      <td>Yes</td>\n",
       "      <td>No</td>\n",
       "      <td>BBQ, Continental, North Indian, Chinese, Bever...</td>\n",
       "      <td>Bellandur</td>\n",
       "      <td>Bellandur</td>\n",
       "    </tr>\n",
       "  </tbody>\n",
       "</table>\n",
       "</div>"
      ],
      "text/plain": [
       "    restaurant name restaurant type  rate (out of 5)  num of ratings  \\\n",
       "0       FeelTheROLL     Quick Bites             3.40               7   \n",
       "1          L81 Cafe     Quick Bites             3.90              48   \n",
       "2            refuel            Cafe             3.70              37   \n",
       "3   Biryani Central   Casual Dining             2.70             135   \n",
       "4           The Bbq   Casual Dining             2.80              40   \n",
       "\n",
       "   avg cost (two people) online_order table booking  \\\n",
       "0                 200.00           No            No   \n",
       "1                 400.00          Yes            No   \n",
       "2                 400.00          Yes            No   \n",
       "3                 550.00          Yes            No   \n",
       "4                 700.00          Yes            No   \n",
       "\n",
       "                                       cuisines type  \\\n",
       "0                                          Fast Food   \n",
       "1                               Fast Food, Beverages   \n",
       "2                                    Cafe, Beverages   \n",
       "3                          Biryani, Mughlai, Chinese   \n",
       "4  BBQ, Continental, North Indian, Chinese, Bever...   \n",
       "\n",
       "                             area      local address  \n",
       "0                       Bellandur          Bellandur  \n",
       "1  Byresandra,Tavarekere,Madiwala                HSR  \n",
       "2               Bannerghatta Road  Bannerghatta Road  \n",
       "3                    Marathahalli       Marathahalli  \n",
       "4                       Bellandur          Bellandur  "
      ]
     },
     "execution_count": 117,
     "metadata": {},
     "output_type": "execute_result"
    }
   ],
   "source": [
    "df.head()"
   ]
  },
  {
   "cell_type": "markdown",
   "metadata": {},
   "source": [
    "## Finding Outliers on the basis of Average Cost(two people)"
   ]
  },
  {
   "cell_type": "code",
   "execution_count": 118,
   "metadata": {},
   "outputs": [
    {
     "name": "stdout",
     "output_type": "stream",
     "text": [
      "upper extreme cost:1050.0\n"
     ]
    },
    {
     "data": {
      "text/html": [
       "<div>\n",
       "<style scoped>\n",
       "    .dataframe tbody tr th:only-of-type {\n",
       "        vertical-align: middle;\n",
       "    }\n",
       "\n",
       "    .dataframe tbody tr th {\n",
       "        vertical-align: top;\n",
       "    }\n",
       "\n",
       "    .dataframe thead th {\n",
       "        text-align: right;\n",
       "    }\n",
       "</style>\n",
       "<table border=\"1\" class=\"dataframe\">\n",
       "  <thead>\n",
       "    <tr style=\"text-align: right;\">\n",
       "      <th></th>\n",
       "      <th>restaurant name</th>\n",
       "      <th>restaurant type</th>\n",
       "      <th>rate (out of 5)</th>\n",
       "      <th>num of ratings</th>\n",
       "      <th>avg cost (two people)</th>\n",
       "      <th>online_order</th>\n",
       "      <th>table booking</th>\n",
       "      <th>cuisines type</th>\n",
       "      <th>area</th>\n",
       "      <th>local address</th>\n",
       "    </tr>\n",
       "  </thead>\n",
       "  <tbody>\n",
       "    <tr>\n",
       "      <th>11</th>\n",
       "      <td>1131 Bar  Kitchen</td>\n",
       "      <td>Bar, Casual Dining</td>\n",
       "      <td>4.40</td>\n",
       "      <td>2861</td>\n",
       "      <td>1500.00</td>\n",
       "      <td>No</td>\n",
       "      <td>Yes</td>\n",
       "      <td>Continental, Asian, Italian, North Indian</td>\n",
       "      <td>Old Airport Road</td>\n",
       "      <td>Indiranagar</td>\n",
       "    </tr>\n",
       "    <tr>\n",
       "      <th>12</th>\n",
       "      <td>12th Main  Grand Mercure</td>\n",
       "      <td>Fine Dining</td>\n",
       "      <td>4.10</td>\n",
       "      <td>353</td>\n",
       "      <td>2000.00</td>\n",
       "      <td>No</td>\n",
       "      <td>Yes</td>\n",
       "      <td>European, Asian</td>\n",
       "      <td>Byresandra,Tavarekere,Madiwala</td>\n",
       "      <td>Koramangala 3rd Block</td>\n",
       "    </tr>\n",
       "    <tr>\n",
       "      <th>14</th>\n",
       "      <td>1522  The Pub</td>\n",
       "      <td>Pub</td>\n",
       "      <td>4.20</td>\n",
       "      <td>1731</td>\n",
       "      <td>1400.00</td>\n",
       "      <td>Yes</td>\n",
       "      <td>No</td>\n",
       "      <td>Chinese, Continental, North Indian</td>\n",
       "      <td>Malleshwaram</td>\n",
       "      <td>Malleshwaram</td>\n",
       "    </tr>\n",
       "    <tr>\n",
       "      <th>21</th>\n",
       "      <td>1Q1</td>\n",
       "      <td>Casual Dining, Bar</td>\n",
       "      <td>4.30</td>\n",
       "      <td>595</td>\n",
       "      <td>2500.00</td>\n",
       "      <td>No</td>\n",
       "      <td>Yes</td>\n",
       "      <td>Asian, Japanese, Thai, Malaysian, Vietnamese, ...</td>\n",
       "      <td>Brigade Road</td>\n",
       "      <td>Infantry Road</td>\n",
       "    </tr>\n",
       "    <tr>\n",
       "      <th>24</th>\n",
       "      <td>20 Char  Sterlings MAC Hotel</td>\n",
       "      <td>Casual Dining, Bar</td>\n",
       "      <td>4.00</td>\n",
       "      <td>419</td>\n",
       "      <td>1400.00</td>\n",
       "      <td>Yes</td>\n",
       "      <td>Yes</td>\n",
       "      <td>Chinese, Continental, North Indian, South Indi...</td>\n",
       "      <td>Indiranagar</td>\n",
       "      <td>Old Airport Road</td>\n",
       "    </tr>\n",
       "    <tr>\n",
       "      <th>...</th>\n",
       "      <td>...</td>\n",
       "      <td>...</td>\n",
       "      <td>...</td>\n",
       "      <td>...</td>\n",
       "      <td>...</td>\n",
       "      <td>...</td>\n",
       "      <td>...</td>\n",
       "      <td>...</td>\n",
       "      <td>...</td>\n",
       "      <td>...</td>\n",
       "    </tr>\n",
       "    <tr>\n",
       "      <th>7078</th>\n",
       "      <td>Zanzibar  Davanam Sarovar Portico Suites</td>\n",
       "      <td>Bar</td>\n",
       "      <td>3.50</td>\n",
       "      <td>39</td>\n",
       "      <td>1200.00</td>\n",
       "      <td>No</td>\n",
       "      <td>No</td>\n",
       "      <td>Finger Food</td>\n",
       "      <td>Byresandra,Tavarekere,Madiwala</td>\n",
       "      <td>BTM</td>\n",
       "    </tr>\n",
       "    <tr>\n",
       "      <th>7083</th>\n",
       "      <td>ZBar</td>\n",
       "      <td>Bar</td>\n",
       "      <td>4.10</td>\n",
       "      <td>410</td>\n",
       "      <td>1500.00</td>\n",
       "      <td>No</td>\n",
       "      <td>Yes</td>\n",
       "      <td>Finger Food, North Indian</td>\n",
       "      <td>Electronic City</td>\n",
       "      <td>Electronic City</td>\n",
       "    </tr>\n",
       "    <tr>\n",
       "      <th>7088</th>\n",
       "      <td>Zen  The Leela Palace</td>\n",
       "      <td>Fine Dining</td>\n",
       "      <td>4.10</td>\n",
       "      <td>245</td>\n",
       "      <td>3500.00</td>\n",
       "      <td>No</td>\n",
       "      <td>Yes</td>\n",
       "      <td>Thai, Japanese, Chinese</td>\n",
       "      <td>Indiranagar</td>\n",
       "      <td>Old Airport Road</td>\n",
       "    </tr>\n",
       "    <tr>\n",
       "      <th>7097</th>\n",
       "      <td>Zodiac</td>\n",
       "      <td>Casual Dining</td>\n",
       "      <td>3.60</td>\n",
       "      <td>62</td>\n",
       "      <td>1500.00</td>\n",
       "      <td>No</td>\n",
       "      <td>No</td>\n",
       "      <td>Italian, Mexican, Mediterranean, North Indian,...</td>\n",
       "      <td>Brookefield</td>\n",
       "      <td>Whitefield</td>\n",
       "    </tr>\n",
       "    <tr>\n",
       "      <th>7098</th>\n",
       "      <td>Zodiac  Fortune Select JP Cosmos Hotel</td>\n",
       "      <td>Casual Dining</td>\n",
       "      <td>3.80</td>\n",
       "      <td>91</td>\n",
       "      <td>1800.00</td>\n",
       "      <td>Yes</td>\n",
       "      <td>Yes</td>\n",
       "      <td>North Indian, South Indian, Chinese, Continental</td>\n",
       "      <td>Brigade Road</td>\n",
       "      <td>Cunningham Road</td>\n",
       "    </tr>\n",
       "  </tbody>\n",
       "</table>\n",
       "<p>661 rows × 10 columns</p>\n",
       "</div>"
      ],
      "text/plain": [
       "                               restaurant name     restaurant type  \\\n",
       "11                           1131 Bar  Kitchen  Bar, Casual Dining   \n",
       "12                    12th Main  Grand Mercure         Fine Dining   \n",
       "14                               1522  The Pub                 Pub   \n",
       "21                                         1Q1  Casual Dining, Bar   \n",
       "24                20 Char  Sterlings MAC Hotel  Casual Dining, Bar   \n",
       "...                                        ...                 ...   \n",
       "7078  Zanzibar  Davanam Sarovar Portico Suites                 Bar   \n",
       "7083                                      ZBar                 Bar   \n",
       "7088                     Zen  The Leela Palace         Fine Dining   \n",
       "7097                                    Zodiac       Casual Dining   \n",
       "7098    Zodiac  Fortune Select JP Cosmos Hotel       Casual Dining   \n",
       "\n",
       "      rate (out of 5)  num of ratings  avg cost (two people) online_order  \\\n",
       "11               4.40            2861                1500.00           No   \n",
       "12               4.10             353                2000.00           No   \n",
       "14               4.20            1731                1400.00          Yes   \n",
       "21               4.30             595                2500.00           No   \n",
       "24               4.00             419                1400.00          Yes   \n",
       "...               ...             ...                    ...          ...   \n",
       "7078             3.50              39                1200.00           No   \n",
       "7083             4.10             410                1500.00           No   \n",
       "7088             4.10             245                3500.00           No   \n",
       "7097             3.60              62                1500.00           No   \n",
       "7098             3.80              91                1800.00          Yes   \n",
       "\n",
       "     table booking                                      cuisines type  \\\n",
       "11             Yes          Continental, Asian, Italian, North Indian   \n",
       "12             Yes                                    European, Asian   \n",
       "14              No                 Chinese, Continental, North Indian   \n",
       "21             Yes  Asian, Japanese, Thai, Malaysian, Vietnamese, ...   \n",
       "24             Yes  Chinese, Continental, North Indian, South Indi...   \n",
       "...            ...                                                ...   \n",
       "7078            No                                        Finger Food   \n",
       "7083           Yes                          Finger Food, North Indian   \n",
       "7088           Yes                            Thai, Japanese, Chinese   \n",
       "7097            No  Italian, Mexican, Mediterranean, North Indian,...   \n",
       "7098           Yes   North Indian, South Indian, Chinese, Continental   \n",
       "\n",
       "                                area          local address  \n",
       "11                  Old Airport Road            Indiranagar  \n",
       "12    Byresandra,Tavarekere,Madiwala  Koramangala 3rd Block  \n",
       "14                      Malleshwaram           Malleshwaram  \n",
       "21                      Brigade Road          Infantry Road  \n",
       "24                       Indiranagar       Old Airport Road  \n",
       "...                              ...                    ...  \n",
       "7078  Byresandra,Tavarekere,Madiwala                    BTM  \n",
       "7083                 Electronic City        Electronic City  \n",
       "7088                     Indiranagar       Old Airport Road  \n",
       "7097                     Brookefield             Whitefield  \n",
       "7098                    Brigade Road        Cunningham Road  \n",
       "\n",
       "[661 rows x 10 columns]"
      ]
     },
     "execution_count": 118,
     "metadata": {},
     "output_type": "execute_result"
    }
   ],
   "source": [
    "q1=df['avg cost (two people)'].quantile(0.25)\n",
    "q3=df['avg cost (two people)'].quantile(0.75)\n",
    "iqr=q3-q1\n",
    "lx=q1-1.5*iqr\n",
    "ux=q3+1.5*iqr\n",
    "print(f'upper extreme cost:{ux}')\n",
    "df.loc[df['avg cost (two people)']>ux]"
   ]
  },
  {
   "cell_type": "markdown",
   "metadata": {},
   "source": [
    "So, by this we get to know that there are 661 restaurants that are having avg cost(two people) more than the upper extreme value of avg cost."
   ]
  },
  {
   "cell_type": "markdown",
   "metadata": {},
   "source": [
    "## Outliers as per avg cost Visualization"
   ]
  },
  {
   "cell_type": "code",
   "execution_count": 119,
   "metadata": {},
   "outputs": [
    {
     "data": {
      "text/plain": [
       "<Axes: ylabel='avg cost (two people)'>"
      ]
     },
     "execution_count": 119,
     "metadata": {},
     "output_type": "execute_result"
    },
    {
     "data": {
      "image/png": "[encoded data removed]",
      "text/plain": [
       "<Figure size 640x480 with 1 Axes>"
      ]
     },
     "metadata": {},
     "output_type": "display_data"
    }
   ],
   "source": [
    "sns.boxplot(data=df,y='avg cost (two people)',color='red')"
   ]
  },
  {
   "cell_type": "markdown",
   "metadata": {},
   "source": [
    "## Online order preferences"
   ]
  },
  {
   "cell_type": "code",
   "execution_count": 120,
   "metadata": {},
   "outputs": [
    {
     "data": {
      "text/plain": [
       "online_order\n",
       "Yes    3727\n",
       "No     3378\n",
       "Name: count, dtype: int64"
      ]
     },
     "execution_count": 120,
     "metadata": {},
     "output_type": "execute_result"
    }
   ],
   "source": [
    "df['online_order'].value_counts()"
   ]
  },
  {
   "cell_type": "code",
   "execution_count": 121,
   "metadata": {},
   "outputs": [
    {
     "data": {
      "text/plain": [
       "Text(0, 0.5, 'Count of online orders option')"
      ]
     },
     "execution_count": 121,
     "metadata": {},
     "output_type": "execute_result"
    },
    {
     "data": {
      "image/png": "[encoded data removed]",
      "text/plain": [
       "<Figure size 500x400 with 1 Axes>"
      ]
     },
     "metadata": {},
     "output_type": "display_data"
    }
   ],
   "source": [
    "plt.figure(figsize=(5,4))\n",
    "plt.title('online orders Availability',color='blue')\n",
    "sns.countplot(data=df,x='online_order',width=0.3)\n",
    "plt.xlabel('Online order option',color='red')\n",
    "plt.ylabel('Count of online orders option',color='red')\n"
   ]
  },
  {
   "cell_type": "markdown",
   "metadata": {},
   "source": [
    "## Restaurants with Table Booking option"
   ]
  },
  {
   "cell_type": "code",
   "execution_count": 122,
   "metadata": {},
   "outputs": [
    {
     "data": {
      "text/plain": [
       "table booking\n",
       "No     6361\n",
       "Yes     744\n",
       "Name: count, dtype: int64"
      ]
     },
     "execution_count": 122,
     "metadata": {},
     "output_type": "execute_result"
    }
   ],
   "source": [
    "df['table booking'].value_counts()"
   ]
  },
  {
   "cell_type": "code",
   "execution_count": 123,
   "metadata": {},
   "outputs": [
    {
     "data": {
      "text/plain": [
       "Text(0, 0.5, 'Count of Table Booking option')"
      ]
     },
     "execution_count": 123,
     "metadata": {},
     "output_type": "execute_result"
    },
    {
     "data": {
      "image/png": "[encoded data removed]",
      "text/plain": [
       "<Figure size 500x400 with 1 Axes>"
      ]
     },
     "metadata": {},
     "output_type": "display_data"
    }
   ],
   "source": [
    "plt.figure(figsize=(5,4))\n",
    "plt.title('Table Booking Availability',color='blue')\n",
    "sns.countplot(data=df,x='table booking',width=0.3,order=['Yes','No'])\n",
    "plt.xlabel('Table Booking option',color='red')\n",
    "plt.ylabel('Count of Table Booking option',color='red')\n"
   ]
  },
  {
   "cell_type": "markdown",
   "metadata": {},
   "source": [
    "So, There are just 744 restaurants with prior Table Booking option Available."
   ]
  },
  {
   "cell_type": "markdown",
   "metadata": {},
   "source": [
    "## Number of Restaurants in particular Area"
   ]
  },
  {
   "cell_type": "code",
   "execution_count": 124,
   "metadata": {},
   "outputs": [
    {
     "data": {
      "text/plain": [
       "area\n",
       "Byresandra,Tavarekere,Madiwala    798\n",
       "Bannerghatta Road                 552\n",
       "Brookefield                       477\n",
       "Brigade Road                      464\n",
       "Indiranagar                       455\n",
       "Electronic City                   403\n",
       "Malleshwaram                      402\n",
       "Kalyan Nagar                      384\n",
       "Bellandur                         361\n",
       "Banashankari                      359\n",
       "Whitefield                        261\n",
       "Marathahalli                      260\n",
       "HSR                               241\n",
       "Basavanagudi                      214\n",
       "New BEL Road                      168\n",
       "Koramangala 4th Block             162\n",
       "Rajajinagar                       148\n",
       "Lavelle Road                      141\n",
       "Jayanagar                         127\n",
       "Frazer Town                       126\n",
       "Sarjapur Road                     108\n",
       "Old Airport Road                   91\n",
       "Church Street                      77\n",
       "Koramangala 6th Block              71\n",
       "JP Nagar                           69\n",
       "Kammanahalli                       65\n",
       "Koramangala 7th Block              36\n",
       "Koramangala 5th Block              35\n",
       "MG Road                            32\n",
       "Residency Road                     18\n",
       "Name: count, dtype: int64"
      ]
     },
     "execution_count": 124,
     "metadata": {},
     "output_type": "execute_result"
    }
   ],
   "source": [
    "df['area'].value_counts()"
   ]
  },
  {
   "cell_type": "code",
   "execution_count": 125,
   "metadata": {},
   "outputs": [
    {
     "data": {
      "image/png": "[encoded data removed]",
      "text/plain": [
       "<Figure size 1500x500 with 1 Axes>"
      ]
     },
     "metadata": {},
     "output_type": "display_data"
    }
   ],
   "source": [
    "plt.figure(figsize=(15,5))\n",
    "plt.title('Restaurants count per area',color='blue')\n",
    "sns.countplot(data=df,x='area')\n",
    "plt.xlabel('area',color='red')\n",
    "plt.ylabel('Restaurants Count',color='red')\n",
    "plt.xticks(rotation='vertical')\n",
    "plt.show()\n"
   ]
  },
  {
   "cell_type": "markdown",
   "metadata": {},
   "source": [
    "So, we get to know that 'Byresandra,Tavarekere,Madiwala' has the maximum number of restaurants and 'Residency Road' has the least number of restaurants."
   ]
  },
  {
   "cell_type": "markdown",
   "metadata": {},
   "source": [
    "## Categorize restaurants on the basis of Average cost for two people"
   ]
  },
  {
   "cell_type": "code",
   "execution_count": 126,
   "metadata": {},
   "outputs": [
    {
     "data": {
      "text/html": [
       "<div>\n",
       "<style scoped>\n",
       "    .dataframe tbody tr th:only-of-type {\n",
       "        vertical-align: middle;\n",
       "    }\n",
       "\n",
       "    .dataframe tbody tr th {\n",
       "        vertical-align: top;\n",
       "    }\n",
       "\n",
       "    .dataframe thead th {\n",
       "        text-align: right;\n",
       "    }\n",
       "</style>\n",
       "<table border=\"1\" class=\"dataframe\">\n",
       "  <thead>\n",
       "    <tr style=\"text-align: right;\">\n",
       "      <th></th>\n",
       "      <th>restaurant name</th>\n",
       "      <th>restaurant type</th>\n",
       "      <th>rate (out of 5)</th>\n",
       "      <th>num of ratings</th>\n",
       "      <th>avg cost (two people)</th>\n",
       "      <th>online_order</th>\n",
       "      <th>table booking</th>\n",
       "      <th>cuisines type</th>\n",
       "      <th>area</th>\n",
       "      <th>local address</th>\n",
       "      <th>Category</th>\n",
       "    </tr>\n",
       "  </thead>\n",
       "  <tbody>\n",
       "    <tr>\n",
       "      <th>0</th>\n",
       "      <td>FeelTheROLL</td>\n",
       "      <td>Quick Bites</td>\n",
       "      <td>3.40</td>\n",
       "      <td>7</td>\n",
       "      <td>200.00</td>\n",
       "      <td>No</td>\n",
       "      <td>No</td>\n",
       "      <td>Fast Food</td>\n",
       "      <td>Bellandur</td>\n",
       "      <td>Bellandur</td>\n",
       "      <td>very cheap</td>\n",
       "    </tr>\n",
       "    <tr>\n",
       "      <th>1</th>\n",
       "      <td>L81 Cafe</td>\n",
       "      <td>Quick Bites</td>\n",
       "      <td>3.90</td>\n",
       "      <td>48</td>\n",
       "      <td>400.00</td>\n",
       "      <td>Yes</td>\n",
       "      <td>No</td>\n",
       "      <td>Fast Food, Beverages</td>\n",
       "      <td>Byresandra,Tavarekere,Madiwala</td>\n",
       "      <td>HSR</td>\n",
       "      <td>cheap</td>\n",
       "    </tr>\n",
       "    <tr>\n",
       "      <th>2</th>\n",
       "      <td>refuel</td>\n",
       "      <td>Cafe</td>\n",
       "      <td>3.70</td>\n",
       "      <td>37</td>\n",
       "      <td>400.00</td>\n",
       "      <td>Yes</td>\n",
       "      <td>No</td>\n",
       "      <td>Cafe, Beverages</td>\n",
       "      <td>Bannerghatta Road</td>\n",
       "      <td>Bannerghatta Road</td>\n",
       "      <td>cheap</td>\n",
       "    </tr>\n",
       "    <tr>\n",
       "      <th>3</th>\n",
       "      <td>Biryani Central</td>\n",
       "      <td>Casual Dining</td>\n",
       "      <td>2.70</td>\n",
       "      <td>135</td>\n",
       "      <td>550.00</td>\n",
       "      <td>Yes</td>\n",
       "      <td>No</td>\n",
       "      <td>Biryani, Mughlai, Chinese</td>\n",
       "      <td>Marathahalli</td>\n",
       "      <td>Marathahalli</td>\n",
       "      <td>moderate</td>\n",
       "    </tr>\n",
       "    <tr>\n",
       "      <th>4</th>\n",
       "      <td>The Bbq</td>\n",
       "      <td>Casual Dining</td>\n",
       "      <td>2.80</td>\n",
       "      <td>40</td>\n",
       "      <td>700.00</td>\n",
       "      <td>Yes</td>\n",
       "      <td>No</td>\n",
       "      <td>BBQ, Continental, North Indian, Chinese, Bever...</td>\n",
       "      <td>Bellandur</td>\n",
       "      <td>Bellandur</td>\n",
       "      <td>moderately expensive</td>\n",
       "    </tr>\n",
       "  </tbody>\n",
       "</table>\n",
       "</div>"
      ],
      "text/plain": [
       "    restaurant name restaurant type  rate (out of 5)  num of ratings  \\\n",
       "0       FeelTheROLL     Quick Bites             3.40               7   \n",
       "1          L81 Cafe     Quick Bites             3.90              48   \n",
       "2            refuel            Cafe             3.70              37   \n",
       "3   Biryani Central   Casual Dining             2.70             135   \n",
       "4           The Bbq   Casual Dining             2.80              40   \n",
       "\n",
       "   avg cost (two people) online_order table booking  \\\n",
       "0                 200.00           No            No   \n",
       "1                 400.00          Yes            No   \n",
       "2                 400.00          Yes            No   \n",
       "3                 550.00          Yes            No   \n",
       "4                 700.00          Yes            No   \n",
       "\n",
       "                                       cuisines type  \\\n",
       "0                                          Fast Food   \n",
       "1                               Fast Food, Beverages   \n",
       "2                                    Cafe, Beverages   \n",
       "3                          Biryani, Mughlai, Chinese   \n",
       "4  BBQ, Continental, North Indian, Chinese, Bever...   \n",
       "\n",
       "                             area      local address              Category  \n",
       "0                       Bellandur          Bellandur            very cheap  \n",
       "1  Byresandra,Tavarekere,Madiwala                HSR                 cheap  \n",
       "2               Bannerghatta Road  Bannerghatta Road                 cheap  \n",
       "3                    Marathahalli       Marathahalli              moderate  \n",
       "4                       Bellandur          Bellandur  moderately expensive  "
      ]
     },
     "execution_count": 126,
     "metadata": {},
     "output_type": "execute_result"
    }
   ],
   "source": [
    "def rest_category(cost):\n",
    "    if(cost)<=200:\n",
    "        return 'very cheap'\n",
    "    elif(cost)<=400:\n",
    "        return 'cheap'\n",
    "    elif(cost)<=600:\n",
    "        return 'moderate'\n",
    "    elif(cost)<=1000:\n",
    "        return 'moderately expensive'\n",
    "    else:\n",
    "        return 'Expensive'\n",
    "df['Category']=df['avg cost (two people)'].apply(rest_category)\n",
    "df.head()"
   ]
  },
  {
   "cell_type": "code",
   "execution_count": 127,
   "metadata": {},
   "outputs": [
    {
     "data": {
      "image/png": "[encoded data removed]",
      "text/plain": [
       "<Figure size 640x480 with 1 Axes>"
      ]
     },
     "metadata": {},
     "output_type": "display_data"
    }
   ],
   "source": [
    "plt.pie(df['Category'].value_counts(),labels=list(df['Category'].unique()),autopct='%.2f%%',radius=0.8)\n",
    "plt.title('Percentage of Restaurants Categories',color='blue')\n",
    "plt.show()"
   ]
  },
  {
   "cell_type": "markdown",
   "metadata": {},
   "source": [
    "## Top 5 most rated restaurants having more than 500 ratings."
   ]
  },
  {
   "cell_type": "code",
   "execution_count": 128,
   "metadata": {},
   "outputs": [
    {
     "data": {
      "text/html": [
       "<div>\n",
       "<style scoped>\n",
       "    .dataframe tbody tr th:only-of-type {\n",
       "        vertical-align: middle;\n",
       "    }\n",
       "\n",
       "    .dataframe tbody tr th {\n",
       "        vertical-align: top;\n",
       "    }\n",
       "\n",
       "    .dataframe thead th {\n",
       "        text-align: right;\n",
       "    }\n",
       "</style>\n",
       "<table border=\"1\" class=\"dataframe\">\n",
       "  <thead>\n",
       "    <tr style=\"text-align: right;\">\n",
       "      <th></th>\n",
       "      <th>restaurant name</th>\n",
       "      <th>restaurant type</th>\n",
       "      <th>rate (out of 5)</th>\n",
       "      <th>num of ratings</th>\n",
       "      <th>avg cost (two people)</th>\n",
       "      <th>online_order</th>\n",
       "      <th>table booking</th>\n",
       "      <th>cuisines type</th>\n",
       "      <th>area</th>\n",
       "      <th>local address</th>\n",
       "      <th>Category</th>\n",
       "    </tr>\n",
       "  </thead>\n",
       "  <tbody>\n",
       "    <tr>\n",
       "      <th>1035</th>\n",
       "      <td>Byg Brewski Brewing Company</td>\n",
       "      <td>Microbrewery</td>\n",
       "      <td>4.90</td>\n",
       "      <td>16345</td>\n",
       "      <td>1600.00</td>\n",
       "      <td>Yes</td>\n",
       "      <td>Yes</td>\n",
       "      <td>Continental, North Indian, Italian, South Indi...</td>\n",
       "      <td>Bellandur</td>\n",
       "      <td>Sarjapur Road</td>\n",
       "      <td>Expensive</td>\n",
       "    </tr>\n",
       "    <tr>\n",
       "      <th>466</th>\n",
       "      <td>Asia Kitchen By Mainland China</td>\n",
       "      <td>Casual Dining, Bar</td>\n",
       "      <td>4.90</td>\n",
       "      <td>2178</td>\n",
       "      <td>1500.00</td>\n",
       "      <td>Yes</td>\n",
       "      <td>Yes</td>\n",
       "      <td>Asian, Chinese, Thai, Momos</td>\n",
       "      <td>Byresandra,Tavarekere,Madiwala</td>\n",
       "      <td>Koramangala 5th Block</td>\n",
       "      <td>Expensive</td>\n",
       "    </tr>\n",
       "    <tr>\n",
       "      <th>4827</th>\n",
       "      <td>Punjab Grill</td>\n",
       "      <td>Casual Dining</td>\n",
       "      <td>4.80</td>\n",
       "      <td>650</td>\n",
       "      <td>2000.00</td>\n",
       "      <td>Yes</td>\n",
       "      <td>No</td>\n",
       "      <td>North Indian</td>\n",
       "      <td>Whitefield</td>\n",
       "      <td>Whitefield</td>\n",
       "      <td>Expensive</td>\n",
       "    </tr>\n",
       "    <tr>\n",
       "      <th>6496</th>\n",
       "      <td>The Pizza Bakery</td>\n",
       "      <td>Casual Dining</td>\n",
       "      <td>4.80</td>\n",
       "      <td>1724</td>\n",
       "      <td>1200.00</td>\n",
       "      <td>Yes</td>\n",
       "      <td>Yes</td>\n",
       "      <td>Italian, Pizza, Beverages</td>\n",
       "      <td>Indiranagar</td>\n",
       "      <td>Indiranagar</td>\n",
       "      <td>Expensive</td>\n",
       "    </tr>\n",
       "    <tr>\n",
       "      <th>4444</th>\n",
       "      <td>OG Variar  Sons</td>\n",
       "      <td>Bakery</td>\n",
       "      <td>4.80</td>\n",
       "      <td>1156</td>\n",
       "      <td>200.00</td>\n",
       "      <td>No</td>\n",
       "      <td>No</td>\n",
       "      <td>Bakery, Desserts</td>\n",
       "      <td>Malleshwaram</td>\n",
       "      <td>Rajajinagar</td>\n",
       "      <td>very cheap</td>\n",
       "    </tr>\n",
       "  </tbody>\n",
       "</table>\n",
       "</div>"
      ],
      "text/plain": [
       "                     restaurant name     restaurant type  rate (out of 5)  \\\n",
       "1035     Byg Brewski Brewing Company        Microbrewery             4.90   \n",
       "466   Asia Kitchen By Mainland China  Casual Dining, Bar             4.90   \n",
       "4827                    Punjab Grill       Casual Dining             4.80   \n",
       "6496                The Pizza Bakery       Casual Dining             4.80   \n",
       "4444                 OG Variar  Sons              Bakery             4.80   \n",
       "\n",
       "      num of ratings  avg cost (two people) online_order table booking  \\\n",
       "1035           16345                1600.00          Yes           Yes   \n",
       "466             2178                1500.00          Yes           Yes   \n",
       "4827             650                2000.00          Yes            No   \n",
       "6496            1724                1200.00          Yes           Yes   \n",
       "4444            1156                 200.00           No            No   \n",
       "\n",
       "                                          cuisines type  \\\n",
       "1035  Continental, North Indian, Italian, South Indi...   \n",
       "466                         Asian, Chinese, Thai, Momos   \n",
       "4827                                       North Indian   \n",
       "6496                          Italian, Pizza, Beverages   \n",
       "4444                                   Bakery, Desserts   \n",
       "\n",
       "                                area          local address    Category  \n",
       "1035                       Bellandur          Sarjapur Road   Expensive  \n",
       "466   Byresandra,Tavarekere,Madiwala  Koramangala 5th Block   Expensive  \n",
       "4827                      Whitefield             Whitefield   Expensive  \n",
       "6496                     Indiranagar            Indiranagar   Expensive  \n",
       "4444                    Malleshwaram            Rajajinagar  very cheap  "
      ]
     },
     "execution_count": 128,
     "metadata": {},
     "output_type": "execute_result"
    }
   ],
   "source": [
    "df.loc[df['num of ratings']>=500].sort_values(by='rate (out of 5)',ascending=False).head(5)"
   ]
  },
  {
   "cell_type": "markdown",
   "metadata": {},
   "source": [
    "## Bivariate Analysis"
   ]
  },
  {
   "cell_type": "code",
   "execution_count": 131,
   "metadata": {},
   "outputs": [
    {
     "data": {
      "text/html": [
       "<div>\n",
       "<style scoped>\n",
       "    .dataframe tbody tr th:only-of-type {\n",
       "        vertical-align: middle;\n",
       "    }\n",
       "\n",
       "    .dataframe tbody tr th {\n",
       "        vertical-align: top;\n",
       "    }\n",
       "\n",
       "    .dataframe thead th {\n",
       "        text-align: right;\n",
       "    }\n",
       "</style>\n",
       "<table border=\"1\" class=\"dataframe\">\n",
       "  <thead>\n",
       "    <tr style=\"text-align: right;\">\n",
       "      <th>table booking</th>\n",
       "      <th>No</th>\n",
       "      <th>Yes</th>\n",
       "    </tr>\n",
       "    <tr>\n",
       "      <th>Category</th>\n",
       "      <th></th>\n",
       "      <th></th>\n",
       "    </tr>\n",
       "  </thead>\n",
       "  <tbody>\n",
       "    <tr>\n",
       "      <th>Expensive</th>\n",
       "      <td>225</td>\n",
       "      <td>437</td>\n",
       "    </tr>\n",
       "    <tr>\n",
       "      <th>cheap</th>\n",
       "      <td>2748</td>\n",
       "      <td>9</td>\n",
       "    </tr>\n",
       "    <tr>\n",
       "      <th>moderate</th>\n",
       "      <td>1412</td>\n",
       "      <td>41</td>\n",
       "    </tr>\n",
       "    <tr>\n",
       "      <th>moderately expensive</th>\n",
       "      <td>771</td>\n",
       "      <td>257</td>\n",
       "    </tr>\n",
       "    <tr>\n",
       "      <th>very cheap</th>\n",
       "      <td>1205</td>\n",
       "      <td>0</td>\n",
       "    </tr>\n",
       "  </tbody>\n",
       "</table>\n",
       "</div>"
      ],
      "text/plain": [
       "table booking           No  Yes\n",
       "Category                       \n",
       "Expensive              225  437\n",
       "cheap                 2748    9\n",
       "moderate              1412   41\n",
       "moderately expensive   771  257\n",
       "very cheap            1205    0"
      ]
     },
     "execution_count": 131,
     "metadata": {},
     "output_type": "execute_result"
    }
   ],
   "source": [
    "pd.crosstab(df['Category'],df['table booking'])"
   ]
  },
  {
   "cell_type": "markdown",
   "metadata": {},
   "source": [
    "So, Table Booking option is mostly available in Expensive restaurants."
   ]
  },
  {
   "cell_type": "code",
   "execution_count": 136,
   "metadata": {},
   "outputs": [
    {
     "data": {
      "text/html": [
       "<div>\n",
       "<style scoped>\n",
       "    .dataframe tbody tr th:only-of-type {\n",
       "        vertical-align: middle;\n",
       "    }\n",
       "\n",
       "    .dataframe tbody tr th {\n",
       "        vertical-align: top;\n",
       "    }\n",
       "\n",
       "    .dataframe thead th {\n",
       "        text-align: right;\n",
       "    }\n",
       "</style>\n",
       "<table border=\"1\" class=\"dataframe\">\n",
       "  <thead>\n",
       "    <tr style=\"text-align: right;\">\n",
       "      <th>Category</th>\n",
       "      <th>Expensive</th>\n",
       "      <th>cheap</th>\n",
       "      <th>moderate</th>\n",
       "      <th>moderately expensive</th>\n",
       "      <th>very cheap</th>\n",
       "    </tr>\n",
       "    <tr>\n",
       "      <th>restaurant type</th>\n",
       "      <th></th>\n",
       "      <th></th>\n",
       "      <th></th>\n",
       "      <th></th>\n",
       "      <th></th>\n",
       "    </tr>\n",
       "  </thead>\n",
       "  <tbody>\n",
       "    <tr>\n",
       "      <th>Quick Bites</th>\n",
       "      <td>0</td>\n",
       "      <td>1730</td>\n",
       "      <td>300</td>\n",
       "      <td>22</td>\n",
       "      <td>788</td>\n",
       "    </tr>\n",
       "    <tr>\n",
       "      <th>Delivery</th>\n",
       "      <td>0</td>\n",
       "      <td>190</td>\n",
       "      <td>118</td>\n",
       "      <td>24</td>\n",
       "      <td>26</td>\n",
       "    </tr>\n",
       "    <tr>\n",
       "      <th>Takeaway, Delivery</th>\n",
       "      <td>4</td>\n",
       "      <td>161</td>\n",
       "      <td>75</td>\n",
       "      <td>9</td>\n",
       "      <td>40</td>\n",
       "    </tr>\n",
       "    <tr>\n",
       "      <th>Casual Dining</th>\n",
       "      <td>207</td>\n",
       "      <td>115</td>\n",
       "      <td>639</td>\n",
       "      <td>672</td>\n",
       "      <td>1</td>\n",
       "    </tr>\n",
       "    <tr>\n",
       "      <th>Dessert Parlor</th>\n",
       "      <td>3</td>\n",
       "      <td>107</td>\n",
       "      <td>29</td>\n",
       "      <td>4</td>\n",
       "      <td>74</td>\n",
       "    </tr>\n",
       "    <tr>\n",
       "      <th>...</th>\n",
       "      <td>...</td>\n",
       "      <td>...</td>\n",
       "      <td>...</td>\n",
       "      <td>...</td>\n",
       "      <td>...</td>\n",
       "    </tr>\n",
       "    <tr>\n",
       "      <th>Fine Dining, Microbrewery</th>\n",
       "      <td>1</td>\n",
       "      <td>0</td>\n",
       "      <td>0</td>\n",
       "      <td>0</td>\n",
       "      <td>0</td>\n",
       "    </tr>\n",
       "    <tr>\n",
       "      <th>Food Court, Beverage Shop</th>\n",
       "      <td>0</td>\n",
       "      <td>0</td>\n",
       "      <td>0</td>\n",
       "      <td>0</td>\n",
       "      <td>1</td>\n",
       "    </tr>\n",
       "    <tr>\n",
       "      <th>Food Court, Casual Dining</th>\n",
       "      <td>0</td>\n",
       "      <td>0</td>\n",
       "      <td>2</td>\n",
       "      <td>0</td>\n",
       "      <td>0</td>\n",
       "    </tr>\n",
       "    <tr>\n",
       "      <th>Lounge</th>\n",
       "      <td>55</td>\n",
       "      <td>0</td>\n",
       "      <td>0</td>\n",
       "      <td>3</td>\n",
       "      <td>0</td>\n",
       "    </tr>\n",
       "    <tr>\n",
       "      <th>Fine Dining, Lounge</th>\n",
       "      <td>1</td>\n",
       "      <td>0</td>\n",
       "      <td>0</td>\n",
       "      <td>0</td>\n",
       "      <td>0</td>\n",
       "    </tr>\n",
       "  </tbody>\n",
       "</table>\n",
       "<p>81 rows × 5 columns</p>\n",
       "</div>"
      ],
      "text/plain": [
       "Category                   Expensive  cheap  moderate  moderately expensive  \\\n",
       "restaurant type                                                               \n",
       "Quick Bites                        0   1730       300                    22   \n",
       "Delivery                           0    190       118                    24   \n",
       "Takeaway, Delivery                 4    161        75                     9   \n",
       "Casual Dining                    207    115       639                   672   \n",
       "Dessert Parlor                     3    107        29                     4   \n",
       "...                              ...    ...       ...                   ...   \n",
       "Fine Dining, Microbrewery          1      0         0                     0   \n",
       "Food Court, Beverage Shop          0      0         0                     0   \n",
       "Food Court, Casual Dining          0      0         2                     0   \n",
       "Lounge                            55      0         0                     3   \n",
       "Fine Dining, Lounge                1      0         0                     0   \n",
       "\n",
       "Category                   very cheap  \n",
       "restaurant type                        \n",
       "Quick Bites                       788  \n",
       "Delivery                           26  \n",
       "Takeaway, Delivery                 40  \n",
       "Casual Dining                       1  \n",
       "Dessert Parlor                     74  \n",
       "...                               ...  \n",
       "Fine Dining, Microbrewery           0  \n",
       "Food Court, Beverage Shop           1  \n",
       "Food Court, Casual Dining           0  \n",
       "Lounge                              0  \n",
       "Fine Dining, Lounge                 0  \n",
       "\n",
       "[81 rows x 5 columns]"
      ]
     },
     "execution_count": 136,
     "metadata": {},
     "output_type": "execute_result"
    }
   ],
   "source": [
    "pd.crosstab(df['restaurant type'],df['Category']).sort_values(by='cheap',ascending=False)"
   ]
  },
  {
   "cell_type": "markdown",
   "metadata": {},
   "source": [
    "so, cheap restaurants are mostly Quick Bites type."
   ]
  },
  {
   "cell_type": "code",
   "execution_count": 138,
   "metadata": {},
   "outputs": [
    {
     "data": {
      "text/html": [
       "<div>\n",
       "<style scoped>\n",
       "    .dataframe tbody tr th:only-of-type {\n",
       "        vertical-align: middle;\n",
       "    }\n",
       "\n",
       "    .dataframe tbody tr th {\n",
       "        vertical-align: top;\n",
       "    }\n",
       "\n",
       "    .dataframe thead th {\n",
       "        text-align: right;\n",
       "    }\n",
       "</style>\n",
       "<table border=\"1\" class=\"dataframe\">\n",
       "  <thead>\n",
       "    <tr style=\"text-align: right;\">\n",
       "      <th>Category</th>\n",
       "      <th>Expensive</th>\n",
       "      <th>cheap</th>\n",
       "      <th>moderate</th>\n",
       "      <th>moderately expensive</th>\n",
       "      <th>very cheap</th>\n",
       "    </tr>\n",
       "    <tr>\n",
       "      <th>restaurant type</th>\n",
       "      <th></th>\n",
       "      <th></th>\n",
       "      <th></th>\n",
       "      <th></th>\n",
       "      <th></th>\n",
       "    </tr>\n",
       "  </thead>\n",
       "  <tbody>\n",
       "    <tr>\n",
       "      <th>Casual Dining</th>\n",
       "      <td>207</td>\n",
       "      <td>115</td>\n",
       "      <td>639</td>\n",
       "      <td>672</td>\n",
       "      <td>1</td>\n",
       "    </tr>\n",
       "    <tr>\n",
       "      <th>Fine Dining</th>\n",
       "      <td>77</td>\n",
       "      <td>0</td>\n",
       "      <td>2</td>\n",
       "      <td>0</td>\n",
       "      <td>0</td>\n",
       "    </tr>\n",
       "    <tr>\n",
       "      <th>Casual Dining, Bar</th>\n",
       "      <td>72</td>\n",
       "      <td>3</td>\n",
       "      <td>9</td>\n",
       "      <td>39</td>\n",
       "      <td>0</td>\n",
       "    </tr>\n",
       "    <tr>\n",
       "      <th>Lounge</th>\n",
       "      <td>55</td>\n",
       "      <td>0</td>\n",
       "      <td>0</td>\n",
       "      <td>3</td>\n",
       "      <td>0</td>\n",
       "    </tr>\n",
       "    <tr>\n",
       "      <th>Bar</th>\n",
       "      <td>50</td>\n",
       "      <td>1</td>\n",
       "      <td>2</td>\n",
       "      <td>29</td>\n",
       "      <td>0</td>\n",
       "    </tr>\n",
       "    <tr>\n",
       "      <th>...</th>\n",
       "      <td>...</td>\n",
       "      <td>...</td>\n",
       "      <td>...</td>\n",
       "      <td>...</td>\n",
       "      <td>...</td>\n",
       "    </tr>\n",
       "    <tr>\n",
       "      <th>Food Court</th>\n",
       "      <td>0</td>\n",
       "      <td>45</td>\n",
       "      <td>27</td>\n",
       "      <td>5</td>\n",
       "      <td>3</td>\n",
       "    </tr>\n",
       "    <tr>\n",
       "      <th>Food Court, Beverage Shop</th>\n",
       "      <td>0</td>\n",
       "      <td>0</td>\n",
       "      <td>0</td>\n",
       "      <td>0</td>\n",
       "      <td>1</td>\n",
       "    </tr>\n",
       "    <tr>\n",
       "      <th>Food Court, Casual Dining</th>\n",
       "      <td>0</td>\n",
       "      <td>0</td>\n",
       "      <td>2</td>\n",
       "      <td>0</td>\n",
       "      <td>0</td>\n",
       "    </tr>\n",
       "    <tr>\n",
       "      <th>Food Court, Dessert Parlor</th>\n",
       "      <td>0</td>\n",
       "      <td>1</td>\n",
       "      <td>0</td>\n",
       "      <td>0</td>\n",
       "      <td>0</td>\n",
       "    </tr>\n",
       "    <tr>\n",
       "      <th>Dessert Parlor, Sweet Shop</th>\n",
       "      <td>0</td>\n",
       "      <td>1</td>\n",
       "      <td>0</td>\n",
       "      <td>0</td>\n",
       "      <td>2</td>\n",
       "    </tr>\n",
       "  </tbody>\n",
       "</table>\n",
       "<p>81 rows × 5 columns</p>\n",
       "</div>"
      ],
      "text/plain": [
       "Category                    Expensive  cheap  moderate  moderately expensive  \\\n",
       "restaurant type                                                                \n",
       "Casual Dining                     207    115       639                   672   \n",
       "Fine Dining                        77      0         2                     0   \n",
       "Casual Dining, Bar                 72      3         9                    39   \n",
       "Lounge                             55      0         0                     3   \n",
       "Bar                                50      1         2                    29   \n",
       "...                               ...    ...       ...                   ...   \n",
       "Food Court                          0     45        27                     5   \n",
       "Food Court, Beverage Shop           0      0         0                     0   \n",
       "Food Court, Casual Dining           0      0         2                     0   \n",
       "Food Court, Dessert Parlor          0      1         0                     0   \n",
       "Dessert Parlor, Sweet Shop          0      1         0                     0   \n",
       "\n",
       "Category                    very cheap  \n",
       "restaurant type                         \n",
       "Casual Dining                        1  \n",
       "Fine Dining                          0  \n",
       "Casual Dining, Bar                   0  \n",
       "Lounge                               0  \n",
       "Bar                                  0  \n",
       "...                                ...  \n",
       "Food Court                           3  \n",
       "Food Court, Beverage Shop            1  \n",
       "Food Court, Casual Dining            0  \n",
       "Food Court, Dessert Parlor           0  \n",
       "Dessert Parlor, Sweet Shop           2  \n",
       "\n",
       "[81 rows x 5 columns]"
      ]
     },
     "execution_count": 138,
     "metadata": {},
     "output_type": "execute_result"
    }
   ],
   "source": [
    "pd.crosstab(df['restaurant type'],df['Category']).sort_values(by='Expensive',ascending=False)"
   ]
  },
  {
   "cell_type": "markdown",
   "metadata": {},
   "source": [
    "Mostly Expensive resturants are for Casual Dining."
   ]
  },
  {
   "cell_type": "code",
   "execution_count": 141,
   "metadata": {},
   "outputs": [
    {
     "data": {
      "text/html": [
       "<div>\n",
       "<style scoped>\n",
       "    .dataframe tbody tr th:only-of-type {\n",
       "        vertical-align: middle;\n",
       "    }\n",
       "\n",
       "    .dataframe tbody tr th {\n",
       "        vertical-align: top;\n",
       "    }\n",
       "\n",
       "    .dataframe thead th {\n",
       "        text-align: right;\n",
       "    }\n",
       "</style>\n",
       "<table border=\"1\" class=\"dataframe\">\n",
       "  <thead>\n",
       "    <tr style=\"text-align: right;\">\n",
       "      <th>Category</th>\n",
       "      <th>Expensive</th>\n",
       "      <th>cheap</th>\n",
       "      <th>moderate</th>\n",
       "      <th>moderately expensive</th>\n",
       "      <th>very cheap</th>\n",
       "    </tr>\n",
       "    <tr>\n",
       "      <th>online_order</th>\n",
       "      <th></th>\n",
       "      <th></th>\n",
       "      <th></th>\n",
       "      <th></th>\n",
       "      <th></th>\n",
       "    </tr>\n",
       "  </thead>\n",
       "  <tbody>\n",
       "    <tr>\n",
       "      <th>No</th>\n",
       "      <td>467</td>\n",
       "      <td>1228</td>\n",
       "      <td>536</td>\n",
       "      <td>446</td>\n",
       "      <td>701</td>\n",
       "    </tr>\n",
       "    <tr>\n",
       "      <th>Yes</th>\n",
       "      <td>195</td>\n",
       "      <td>1529</td>\n",
       "      <td>917</td>\n",
       "      <td>582</td>\n",
       "      <td>504</td>\n",
       "    </tr>\n",
       "  </tbody>\n",
       "</table>\n",
       "</div>"
      ],
      "text/plain": [
       "Category      Expensive  cheap  moderate  moderately expensive  very cheap\n",
       "online_order                                                              \n",
       "No                  467   1228       536                   446         701\n",
       "Yes                 195   1529       917                   582         504"
      ]
     },
     "execution_count": 141,
     "metadata": {},
     "output_type": "execute_result"
    }
   ],
   "source": [
    "pd.crosstab(df['online_order'],df['Category'])"
   ]
  },
  {
   "cell_type": "markdown",
   "metadata": {},
   "source": [
    "Mostly Expensive restaurants are in-only restaurants dining.\n",
    "Online order facility is mostly given by cheap and moderate restaurants."
   ]
  }
 ],
 "metadata": {
  "kernelspec": {
   "display_name": "Python 3",
   "language": "python",
   "name": "python3"
  },
  "language_info": {
   "codemirror_mode": {
    "name": "ipython",
    "version": 3
   },
   "file_extension": ".py",
   "mimetype": "text/x-python",
   "name": "python",
   "nbconvert_exporter": "python",
   "pygments_lexer": "ipython3",
   "version": "3.11.3"
  },
  "orig_nbformat": 4
 },
 "nbformat": 4,
 "nbformat_minor": 2
}
